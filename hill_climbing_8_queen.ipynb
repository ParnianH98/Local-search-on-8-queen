{
  "nbformat": 4,
  "nbformat_minor": 0,
  "metadata": {
    "colab": {
      "name": "hill climbing 8-queen.ipynb",
      "provenance": [],
      "collapsed_sections": [],
      "include_colab_link": true
    },
    "kernelspec": {
      "display_name": "Python 3",
      "name": "python3"
    },
    "language_info": {
      "name": "python"
    }
  },
  "cells": [
    {
      "cell_type": "markdown",
      "metadata": {
        "id": "view-in-github",
        "colab_type": "text"
      },
      "source": [
        "<a href=\"https://colab.research.google.com/github/ParnianH98/Local-search-on-8-queen/blob/main/hill_climbing_8_queen.ipynb\" target=\"_parent\"><img src=\"https://colab.research.google.com/assets/colab-badge.svg\" alt=\"Open In Colab\"/></a>"
      ]
    },
    {
      "cell_type": "code",
      "metadata": {
        "id": "oX3hPQaSvdEA"
      },
      "source": [
        "import numpy as np\n",
        "import random"
      ],
      "execution_count": null,
      "outputs": []
    },
    {
      "cell_type": "markdown",
      "metadata": {
        "id": "5UITeFdXK0Hu"
      },
      "source": [
        "get a filtered-arbitrary initial state of 8-queen from the user"
      ]
    },
    {
      "cell_type": "code",
      "metadata": {
        "id": "7YlsOrbioXgR",
        "colab": {
          "base_uri": "https://localhost:8080/"
        },
        "outputId": "ad49635b-034d-4b6b-98b5-42c4aff082b7"
      },
      "source": [
        "L = []\n",
        "for j in range(8):\n",
        "    a = random.randint(0,7)\n",
        "    L.append(a)\n",
        "\n",
        "mat = np.zeros((8,8))\n",
        "print(L)\n",
        "print(mat)\n"
      ],
      "execution_count": null,
      "outputs": [
        {
          "output_type": "stream",
          "text": [
            "[2, 6, 5, 1, 7, 5, 4, 5]\n",
            "[[0. 0. 0. 0. 0. 0. 0. 0.]\n",
            " [0. 0. 0. 0. 0. 0. 0. 0.]\n",
            " [0. 0. 0. 0. 0. 0. 0. 0.]\n",
            " [0. 0. 0. 0. 0. 0. 0. 0.]\n",
            " [0. 0. 0. 0. 0. 0. 0. 0.]\n",
            " [0. 0. 0. 0. 0. 0. 0. 0.]\n",
            " [0. 0. 0. 0. 0. 0. 0. 0.]\n",
            " [0. 0. 0. 0. 0. 0. 0. 0.]]\n"
          ],
          "name": "stdout"
        }
      ]
    },
    {
      "cell_type": "markdown",
      "metadata": {
        "id": "RemOlUohLNP4"
      },
      "source": [
        "generate the board matrix from the entered list"
      ]
    },
    {
      "cell_type": "code",
      "metadata": {
        "id": "4h5LkHVGwK5H"
      },
      "source": [
        "def gen_mat(List):\n",
        "  matrix = np.zeros((8,8))\n",
        "  for i in range(8):\n",
        "    matrix[List[i]][i] = 1\n",
        "  return matrix\n",
        "  "
      ],
      "execution_count": null,
      "outputs": []
    },
    {
      "cell_type": "markdown",
      "metadata": {
        "id": "q4eLewjNLf4Z"
      },
      "source": [
        "calculate the objective function for a board:\n",
        "how many queen pairs attack each other"
      ]
    },
    {
      "cell_type": "code",
      "metadata": {
        "id": "KTff99WJKURg"
      },
      "source": [
        "def objective_cal(lst):\n",
        "  \n",
        "  attack = 0\n",
        "  for i in range(8):\n",
        "    for j in range(i+1,8):\n",
        "      if lst[i]==lst[j]:\n",
        "        attack+=1\n",
        "      elif (i-j == lst[i]-lst[j]) or (j-i == lst[i]-lst[j]):\n",
        "        attack+=1\n",
        "\n",
        "  return attack\n",
        "\n",
        "    \n",
        "\n"
      ],
      "execution_count": null,
      "outputs": []
    },
    {
      "cell_type": "markdown",
      "metadata": {
        "id": "oozfHRTwpZSS"
      },
      "source": [
        "this function finds the best neighbour for the current state"
      ]
    },
    {
      "cell_type": "code",
      "metadata": {
        "id": "waUfwB0Spj0Y"
      },
      "source": [
        "def findNeighbour(matrix,lst):\n",
        "  objVal = objective_cal(lst)\n",
        "\n",
        "  FNeighbour = matrix.copy()\n",
        "  lstFNeighbour = lst.copy()\n",
        "\n",
        "  tempNeighbour = matrix.copy()\n",
        "  lstTempNeighbour = lst.copy()\n",
        "\n",
        "  for i in range(8):\n",
        "    for j in range(8):\n",
        "\n",
        "      # to work on neighbours, not the matrix itself\n",
        "      if j != lst[i]:\n",
        "\n",
        "        # to make a neighbour\n",
        "        lstTempNeighbour[i] = j\n",
        "        tempNeighbour[lstTempNeighbour[i]][i] = 1\n",
        "        tempNeighbour[lst[i]][i] = 0\n",
        "        tempObjVal = objective_cal(lstTempNeighbour)\n",
        "\n",
        "        if tempObjVal < objVal:\n",
        "          objVal = tempObjVal\n",
        "          FNeighbour = tempNeighbour.copy()\n",
        "          lstFNeighbour = lstTempNeighbour.copy()\n",
        "\n",
        "        # to reset variable for the next round\n",
        "        lstTempNeighbour[i] = lst[i]\n",
        "        tempNeighbour[lstTempNeighbour[i]][i] = 0\n",
        "        tempNeighbour[lst[i]][i] = 1\n",
        "\n",
        "\n",
        "  matrix = FNeighbour.copy()\n",
        "  lst = lstFNeighbour.copy()\n",
        "\n",
        "  return matrix,lst\n"
      ],
      "execution_count": null,
      "outputs": []
    },
    {
      "cell_type": "code",
      "metadata": {
        "id": "93IhzoNoxajs"
      },
      "source": [
        "def hillClimbing(matrix,lst):\n",
        "  Neighbour = matrix.copy() \n",
        "  Nlst = lst.copy()\n",
        "\n",
        "  for counter in range(500):\n",
        "    N = findNeighbour(Neighbour,Nlst)\n",
        "    Neighbour = N[0]\n",
        "    Nlst = N[1]\n",
        "\n",
        "    lst = np.array(lst)\n",
        "    Nlst = np.array(Nlst)\n",
        "\n",
        "    if ((Nlst == lst).all() and objective_cal(Nlst)==0):\n",
        "      return Neighbour\n",
        "\n",
        "    if (objective_cal(Nlst)==objective_cal(lst)):\n",
        "    # We have stuck in a shoulder! So find another initial state and go on\n",
        "      i = random.randint(0,7)\n",
        "      j = random.randint(0,7)\n",
        "      Nlst[i] = random.randint(0,7)\n",
        "      Nlst[j] = random.randint(0,7)\n",
        "      Neighbour = gen_mat(Nlst)\n",
        "  \n",
        "  return Neighbour,Nlst"
      ],
      "execution_count": null,
      "outputs": []
    },
    {
      "cell_type": "code",
      "metadata": {
        "colab": {
          "base_uri": "https://localhost:8080/"
        },
        "id": "FoeX1qOZwxRk",
        "outputId": "c79f99a2-67f5-4580-eead-fc5d6c264f29"
      },
      "source": [
        "##### main\n",
        "\n",
        "mat = gen_mat(L)\n",
        "m = hillClimbing(mat,L)\n",
        "mat=[]\n",
        "L = m[1]\n",
        "mat = gen_mat(L)\n",
        "print(mat)\n"
      ],
      "execution_count": null,
      "outputs": [
        {
          "output_type": "stream",
          "text": [
            "[[0. 0. 0. 0. 0. 0. 1. 0.]\n",
            " [0. 0. 0. 1. 0. 0. 0. 0.]\n",
            " [1. 0. 0. 0. 0. 0. 0. 0.]\n",
            " [0. 0. 1. 0. 0. 0. 0. 0.]\n",
            " [0. 0. 0. 0. 0. 1. 0. 0.]\n",
            " [0. 0. 0. 0. 0. 0. 0. 1.]\n",
            " [0. 1. 0. 0. 0. 0. 0. 0.]\n",
            " [0. 0. 0. 0. 1. 0. 0. 0.]]\n"
          ],
          "name": "stdout"
        }
      ]
    },
    {
      "cell_type": "code",
      "metadata": {
        "colab": {
          "base_uri": "https://localhost:8080/"
        },
        "id": "ZQh-EO9X80gp",
        "outputId": "8a82a03a-8943-408c-fe1e-ae6cc58d689c"
      },
      "source": [
        "print(objective_cal(L))"
      ],
      "execution_count": null,
      "outputs": [
        {
          "output_type": "stream",
          "text": [
            "1\n"
          ],
          "name": "stdout"
        }
      ]
    },
    {
      "cell_type": "code",
      "metadata": {
        "id": "lmgaAIxWMssL"
      },
      "source": [
        ""
      ],
      "execution_count": null,
      "outputs": []
    }
  ]
}