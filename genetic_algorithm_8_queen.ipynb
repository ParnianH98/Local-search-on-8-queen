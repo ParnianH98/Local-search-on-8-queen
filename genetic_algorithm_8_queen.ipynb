{
  "nbformat": 4,
  "nbformat_minor": 0,
  "metadata": {
    "colab": {
      "name": "genetic algorithm 8-queen.ipynb",
      "provenance": [],
      "collapsed_sections": [],
      "authorship_tag": "ABX9TyNpWokHXs8FJQMvMTE/p2+N",
      "include_colab_link": true
    },
    "kernelspec": {
      "name": "python3",
      "display_name": "Python 3"
    },
    "language_info": {
      "name": "python"
    }
  },
  "cells": [
    {
      "cell_type": "markdown",
      "metadata": {
        "id": "view-in-github",
        "colab_type": "text"
      },
      "source": [
        "<a href=\"https://colab.research.google.com/github/ParnianH98/Local-search-on-8-queen/blob/main/genetic_algorithm_8_queen.ipynb\" target=\"_parent\"><img src=\"https://colab.research.google.com/assets/colab-badge.svg\" alt=\"Open In Colab\"/></a>"
      ]
    },
    {
      "cell_type": "code",
      "metadata": {
        "id": "jWzb2aMe_CgK"
      },
      "source": [
        "import numpy as np\n",
        "import random\n",
        "import math\n",
        "population = 100"
      ],
      "execution_count": null,
      "outputs": []
    },
    {
      "cell_type": "markdown",
      "metadata": {
        "id": "-OWxHeOXOTw9"
      },
      "source": [
        "get a filtered-arbitrary initial state of 8-queen from the user"
      ]
    },
    {
      "cell_type": "code",
      "metadata": {
        "colab": {
          "base_uri": "https://localhost:8080/"
        },
        "id": "dNKxePr-OUwL",
        "outputId": "f5f85357-3e6c-4cd7-cbfc-e50cea05677d"
      },
      "source": [
        "L = []\n",
        "\n",
        "\n",
        "for i in range(population):\n",
        "  Ls = []\n",
        "  for j in range(8):\n",
        "    a = random.randint(0,7)\n",
        "    Ls.append(a)\n",
        "  L.append(Ls)\n",
        "\n",
        "mat = np.zeros((8,8))\n",
        "print(L)\n"
      ],
      "execution_count": null,
      "outputs": [
        {
          "output_type": "stream",
          "text": [
            "[[0, 0, 7, 4, 6, 1, 1, 1], [1, 3, 4, 7, 0, 4, 3, 6], [4, 4, 4, 2, 4, 6, 1, 2], [7, 0, 7, 5, 7, 2, 3, 3], [1, 5, 7, 1, 2, 6, 0, 0], [1, 3, 0, 5, 3, 6, 0, 4], [1, 1, 1, 7, 6, 2, 4, 7], [4, 0, 4, 0, 3, 1, 0, 7], [7, 2, 1, 0, 0, 7, 4, 2], [6, 2, 1, 2, 6, 2, 0, 6], [2, 6, 4, 1, 6, 4, 2, 7], [5, 3, 1, 4, 4, 0, 7, 4], [7, 5, 5, 2, 1, 7, 6, 5], [4, 6, 3, 4, 4, 5, 0, 7], [7, 0, 6, 6, 0, 0, 0, 3], [5, 7, 5, 5, 6, 6, 2, 4], [0, 5, 6, 1, 0, 5, 3, 1], [3, 3, 7, 5, 0, 1, 0, 7], [1, 5, 6, 6, 7, 1, 7, 3], [5, 3, 4, 5, 1, 7, 7, 2], [7, 2, 2, 4, 2, 7, 3, 3], [1, 0, 3, 1, 4, 5, 0, 1], [4, 3, 0, 1, 2, 4, 4, 1], [3, 3, 0, 2, 5, 6, 7, 4], [5, 0, 5, 4, 0, 5, 7, 1], [4, 1, 5, 6, 5, 3, 0, 3], [2, 3, 0, 4, 6, 6, 3, 5], [4, 2, 2, 7, 3, 4, 5, 2], [0, 2, 0, 4, 7, 3, 2, 4], [7, 1, 7, 4, 1, 6, 1, 4], [4, 3, 0, 5, 7, 2, 0, 7], [1, 2, 6, 1, 0, 7, 0, 1], [5, 4, 5, 1, 1, 1, 7, 5], [6, 1, 4, 0, 2, 1, 5, 7], [7, 5, 0, 0, 4, 0, 0, 1], [2, 6, 0, 1, 0, 3, 3, 5], [4, 5, 2, 6, 7, 4, 1, 0], [6, 7, 4, 1, 5, 2, 3, 2], [7, 6, 5, 7, 0, 1, 5, 1], [0, 7, 3, 4, 0, 1, 5, 1], [7, 3, 0, 1, 7, 4, 5, 4], [2, 2, 6, 5, 1, 7, 6, 7], [3, 4, 0, 1, 7, 1, 0, 1], [0, 6, 0, 5, 4, 4, 1, 2], [5, 0, 7, 6, 2, 3, 1, 3], [1, 2, 2, 4, 2, 7, 6, 1], [4, 7, 1, 1, 2, 0, 2, 6], [0, 3, 6, 6, 6, 1, 6, 7], [3, 3, 2, 0, 0, 2, 0, 3], [5, 1, 4, 2, 1, 1, 0, 3], [0, 2, 6, 0, 0, 3, 4, 7], [1, 2, 0, 4, 3, 5, 4, 5], [2, 5, 2, 0, 7, 5, 0, 3], [6, 2, 4, 5, 3, 7, 3, 5], [1, 5, 0, 0, 2, 1, 2, 4], [4, 0, 3, 2, 4, 2, 5, 5], [6, 2, 5, 5, 4, 4, 5, 0], [3, 5, 6, 0, 5, 0, 7, 3], [1, 0, 2, 1, 2, 6, 2, 7], [0, 2, 3, 6, 2, 1, 2, 6], [2, 5, 6, 7, 3, 6, 6, 2], [0, 3, 3, 3, 1, 2, 1, 1], [4, 4, 5, 0, 7, 0, 2, 3], [1, 6, 5, 4, 7, 5, 6, 7], [5, 1, 1, 2, 4, 6, 1, 3], [3, 4, 0, 3, 5, 5, 6, 1], [6, 1, 7, 7, 4, 7, 1, 6], [1, 6, 0, 6, 5, 3, 0, 1], [1, 3, 2, 5, 1, 1, 0, 4], [4, 6, 3, 2, 3, 5, 4, 0], [6, 1, 7, 6, 7, 3, 3, 0], [4, 5, 2, 6, 1, 6, 1, 2], [2, 7, 1, 3, 4, 3, 5, 2], [0, 0, 3, 3, 4, 6, 7, 4], [6, 1, 5, 3, 1, 6, 2, 6], [3, 7, 0, 0, 3, 7, 7, 0], [0, 2, 2, 2, 7, 6, 6, 5], [4, 1, 0, 0, 0, 6, 3, 3], [7, 1, 2, 6, 7, 1, 0, 4], [5, 3, 1, 4, 3, 1, 7, 6], [6, 4, 3, 2, 7, 2, 4, 3], [4, 2, 7, 2, 7, 7, 0, 7], [2, 1, 1, 0, 5, 7, 7, 0], [0, 7, 2, 4, 2, 3, 1, 6], [7, 6, 3, 0, 4, 2, 0, 6], [7, 7, 1, 0, 7, 0, 4, 6], [3, 7, 1, 1, 2, 5, 6, 1], [2, 6, 2, 0, 7, 1, 5, 6], [7, 0, 4, 6, 6, 0, 4, 2], [5, 7, 6, 1, 0, 1, 0, 2], [2, 7, 7, 6, 0, 7, 7, 1], [6, 7, 3, 3, 0, 3, 1, 4], [6, 4, 2, 1, 5, 1, 7, 6], [7, 2, 3, 5, 4, 2, 3, 0], [2, 6, 6, 0, 3, 1, 3, 7], [3, 5, 0, 5, 3, 6, 3, 7], [0, 6, 0, 2, 7, 4, 2, 6], [5, 3, 3, 6, 5, 4, 3, 3], [5, 6, 7, 6, 0, 0, 3, 0], [0, 5, 5, 2, 6, 2, 3, 0]]\n"
          ],
          "name": "stdout"
        }
      ]
    },
    {
      "cell_type": "markdown",
      "metadata": {
        "id": "SPRs64ZWOc-G"
      },
      "source": [
        "generate the board matrix from the entered list"
      ]
    },
    {
      "cell_type": "code",
      "metadata": {
        "id": "-Lo0pxFKOfSk"
      },
      "source": [
        "def gen_mat(List):\n",
        "  matrix = np.zeros((8,8))\n",
        "  for i in range(8):\n",
        "    matrix[List[i]][i] = 1\n",
        "  return matrix"
      ],
      "execution_count": null,
      "outputs": []
    },
    {
      "cell_type": "markdown",
      "metadata": {
        "id": "7bkOMk_XO0p6"
      },
      "source": [
        "calculate the fittness function for a board: how many queen pairs attack each other"
      ]
    },
    {
      "cell_type": "code",
      "metadata": {
        "id": "e9qZ0mC7O4Mn"
      },
      "source": [
        "def fittness_cal(lst):\n",
        "  attack = 0\n",
        "  for i in range(8):\n",
        "    for j in range(i+1,8):\n",
        "      if lst[i]==lst[j]:\n",
        "        attack+=1\n",
        "      elif (i-j == lst[i]-lst[j]) or (j-i == lst[i]-lst[j]):\n",
        "        attack+=1\n",
        "\n",
        "  return attack\n",
        "\n",
        "\n"
      ],
      "execution_count": null,
      "outputs": []
    },
    {
      "cell_type": "markdown",
      "metadata": {
        "id": "76h-kkfTPxB4"
      },
      "source": [
        "CrossOver function"
      ]
    },
    {
      "cell_type": "code",
      "metadata": {
        "id": "1cCa9VPnP0ON"
      },
      "source": [
        "def CrossOver(lst1,lst2):\n",
        "  pos = random.randint(0,6)\n",
        "  for i in range(pos+1):\n",
        "    lst1[i] , lst2[i] = lst2[i] , lst1[i]\n",
        "\n",
        "  return lst1,lst2"
      ],
      "execution_count": null,
      "outputs": []
    },
    {
      "cell_type": "markdown",
      "metadata": {
        "id": "iZc0ZOgIeffz"
      },
      "source": [
        "mutate a list"
      ]
    },
    {
      "cell_type": "code",
      "metadata": {
        "id": "PAct3G2FP8H1"
      },
      "source": [
        "def mutate(lst):\n",
        "  rand = random.random()\n",
        "  if rand < 0.3:\n",
        "    pos = random.randint(0,7)\n",
        "    val = random.randint(0,7)\n",
        "\n",
        "    lst[pos] = val\n",
        "\n",
        "  return lst"
      ],
      "execution_count": null,
      "outputs": []
    },
    {
      "cell_type": "markdown",
      "metadata": {
        "id": "GGr0_P2qp6Px"
      },
      "source": [
        "Sort"
      ]
    },
    {
      "cell_type": "code",
      "metadata": {
        "id": "yGl6eHiOp7hx"
      },
      "source": [
        "def Sort(flst,lst):\n",
        "  for i in range(len(flst)-1):\n",
        "    for j in range(i+1,len(flst)):\n",
        "      if flst[j]<flst[i]:\n",
        "        flst[i],flst[j] = flst[j],flst[i]\n",
        "        lst[i],lst[j] = lst[j],lst[i]\n",
        "\n",
        "  return flst,lst"
      ],
      "execution_count": null,
      "outputs": []
    },
    {
      "cell_type": "code",
      "metadata": {
        "id": "PSH4Q36YQI7n"
      },
      "source": [
        "def genetic(lst):\n",
        "  \n",
        "  for k in range(500):\n",
        "    fitL = []\n",
        "    for i in range(population):\n",
        "      fitL.append(fittness_cal(lst[i]))\n",
        "\n",
        "    fitL,L = Sort(fitL,lst)\n",
        "    if fitL[0]==0:\n",
        "      return fitL,lst\n",
        "\n",
        "    for i in range(0,population,2):\n",
        "      lst[i],lst[i+1] = CrossOver(L[i],L[i+1])\n",
        "    \n",
        "    for j in range(population):\n",
        "      lst[j] = mutate(lst[j])\n",
        "\n",
        "  return fitL,lst\n",
        "\n",
        "  \n",
        "\n"
      ],
      "execution_count": null,
      "outputs": []
    },
    {
      "cell_type": "code",
      "metadata": {
        "colab": {
          "base_uri": "https://localhost:8080/"
        },
        "id": "Y-7ufj8Iv0M7",
        "outputId": "17fb77fe-9931-43c4-ed96-46ebd4813fe2"
      },
      "source": [
        "##### main\n",
        "res = genetic(L)\n",
        "fit,LIST = Sort(res[0],res[1])\n",
        "fit = fit[0]\n",
        "LIST = LIST[0]\n",
        "print(LIST)\n",
        "mat = gen_mat(LIST)\n",
        "print(mat)\n",
        "print(fit)"
      ],
      "execution_count": null,
      "outputs": [
        {
          "output_type": "stream",
          "text": [
            "[1, 6, 6, 0, 0, 3, 7, 2]\n",
            "[[0. 0. 0. 1. 1. 0. 0. 0.]\n",
            " [1. 0. 0. 0. 0. 0. 0. 0.]\n",
            " [0. 0. 0. 0. 0. 0. 0. 1.]\n",
            " [0. 0. 0. 0. 0. 1. 0. 0.]\n",
            " [0. 0. 0. 0. 0. 0. 0. 0.]\n",
            " [0. 0. 0. 0. 0. 0. 0. 0.]\n",
            " [0. 1. 1. 0. 0. 0. 0. 0.]\n",
            " [0. 0. 0. 0. 0. 0. 1. 0.]]\n",
            "3\n"
          ],
          "name": "stdout"
        }
      ]
    }
  ]
}